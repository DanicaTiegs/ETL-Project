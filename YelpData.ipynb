{
 "cells": [
  {
   "cell_type": "code",
   "execution_count": 12,
   "metadata": {},
   "outputs": [],
   "source": [
    "import pandas as pd\n",
    "import requests\n",
    "import json\n",
    "import time\n",
    "from pprint import pprint\n",
    "from config import API_KEY"
   ]
  },
  {
   "cell_type": "code",
   "execution_count": 13,
   "metadata": {},
   "outputs": [
    {
     "data": {
      "text/html": [
       "<div>\n",
       "<style scoped>\n",
       "    .dataframe tbody tr th:only-of-type {\n",
       "        vertical-align: middle;\n",
       "    }\n",
       "\n",
       "    .dataframe tbody tr th {\n",
       "        vertical-align: top;\n",
       "    }\n",
       "\n",
       "    .dataframe thead th {\n",
       "        text-align: right;\n",
       "    }\n",
       "</style>\n",
       "<table border=\"1\" class=\"dataframe\">\n",
       "  <thead>\n",
       "    <tr style=\"text-align: right;\">\n",
       "      <th></th>\n",
       "      <th>business_id</th>\n",
       "      <th>highlights</th>\n",
       "      <th>delivery or takeout</th>\n",
       "      <th>Grubhub enabled</th>\n",
       "      <th>Call To Action enabled</th>\n",
       "      <th>Request a Quote Enabled</th>\n",
       "      <th>Covid Banner</th>\n",
       "      <th>Temporary Closed Until</th>\n",
       "      <th>Virtual Services Offered</th>\n",
       "    </tr>\n",
       "  </thead>\n",
       "  <tbody>\n",
       "    <tr>\n",
       "      <th>0</th>\n",
       "      <td>9kXRUIkwdDtnAPO6tVo51g</td>\n",
       "      <td>FALSE</td>\n",
       "      <td>FALSE</td>\n",
       "      <td>FALSE</td>\n",
       "      <td>FALSE</td>\n",
       "      <td>FALSE</td>\n",
       "      <td>FALSE</td>\n",
       "      <td>FALSE</td>\n",
       "      <td>FALSE</td>\n",
       "    </tr>\n",
       "    <tr>\n",
       "      <th>1</th>\n",
       "      <td>H6D5HOTfMjrZt7r1EObZ1g</td>\n",
       "      <td>FALSE</td>\n",
       "      <td>FALSE</td>\n",
       "      <td>FALSE</td>\n",
       "      <td>FALSE</td>\n",
       "      <td>FALSE</td>\n",
       "      <td>FALSE</td>\n",
       "      <td>FALSE</td>\n",
       "      <td>FALSE</td>\n",
       "    </tr>\n",
       "    <tr>\n",
       "      <th>2</th>\n",
       "      <td>FYddq7fUtzobZcw4jOJgVA</td>\n",
       "      <td>FALSE</td>\n",
       "      <td>FALSE</td>\n",
       "      <td>FALSE</td>\n",
       "      <td>FALSE</td>\n",
       "      <td>FALSE</td>\n",
       "      <td>FALSE</td>\n",
       "      <td>FALSE</td>\n",
       "      <td>FALSE</td>\n",
       "    </tr>\n",
       "    <tr>\n",
       "      <th>3</th>\n",
       "      <td>c75jLTjlgA9q3gImLEGT6w</td>\n",
       "      <td>FALSE</td>\n",
       "      <td>FALSE</td>\n",
       "      <td>FALSE</td>\n",
       "      <td>FALSE</td>\n",
       "      <td>FALSE</td>\n",
       "      <td>FALSE</td>\n",
       "      <td>FALSE</td>\n",
       "      <td>FALSE</td>\n",
       "    </tr>\n",
       "    <tr>\n",
       "      <th>4</th>\n",
       "      <td>YfzPiY50h_10Sjlg3mnNWQ</td>\n",
       "      <td>FALSE</td>\n",
       "      <td>FALSE</td>\n",
       "      <td>FALSE</td>\n",
       "      <td>FALSE</td>\n",
       "      <td>FALSE</td>\n",
       "      <td>FALSE</td>\n",
       "      <td>FALSE</td>\n",
       "      <td>FALSE</td>\n",
       "    </tr>\n",
       "  </tbody>\n",
       "</table>\n",
       "</div>"
      ],
      "text/plain": [
       "              business_id highlights delivery or takeout Grubhub enabled  \\\n",
       "0  9kXRUIkwdDtnAPO6tVo51g      FALSE               FALSE           FALSE   \n",
       "1  H6D5HOTfMjrZt7r1EObZ1g      FALSE               FALSE           FALSE   \n",
       "2  FYddq7fUtzobZcw4jOJgVA      FALSE               FALSE           FALSE   \n",
       "3  c75jLTjlgA9q3gImLEGT6w      FALSE               FALSE           FALSE   \n",
       "4  YfzPiY50h_10Sjlg3mnNWQ      FALSE               FALSE           FALSE   \n",
       "\n",
       "  Call To Action enabled Request a Quote Enabled Covid Banner  \\\n",
       "0                  FALSE                   FALSE        FALSE   \n",
       "1                  FALSE                   FALSE        FALSE   \n",
       "2                  FALSE                   FALSE        FALSE   \n",
       "3                  FALSE                   FALSE        FALSE   \n",
       "4                  FALSE                   FALSE        FALSE   \n",
       "\n",
       "  Temporary Closed Until Virtual Services Offered  \n",
       "0                  FALSE                    FALSE  \n",
       "1                  FALSE                    FALSE  \n",
       "2                  FALSE                    FALSE  \n",
       "3                  FALSE                    FALSE  \n",
       "4                  FALSE                    FALSE  "
      ]
     },
     "execution_count": 13,
     "metadata": {},
     "output_type": "execute_result"
    }
   ],
   "source": [
    "yelpData = pd.read_json(\"Resources/yelp_academic_dataset_covid_features.json\", lines=True)\n",
    "yelpData.head"
   ]
  },
  {
   "cell_type": "code",
   "execution_count": 15,
   "metadata": {},
   "outputs": [
    {
     "name": "stdout",
     "output_type": "stream",
     "text": [
      "The status code is 200\n"
     ]
    },
    {
     "data": {
      "text/plain": [
       "{'id': '9kXRUIkwdDtnAPO6tVo51g',\n",
       " 'alias': 'hager-motorsports-rock-hill',\n",
       " 'name': 'Hager Motorsports',\n",
       " 'image_url': '',\n",
       " 'is_claimed': False,\n",
       " 'is_closed': False,\n",
       " 'url': 'https://www.yelp.com/biz/hager-motorsports-rock-hill?adjust_creative=xIE3b5TeSozXXLjAeLlEyw&utm_campaign=yelp_api_v3&utm_medium=api_v3_business_lookup&utm_source=xIE3b5TeSozXXLjAeLlEyw',\n",
       " 'phone': '+18033248800',\n",
       " 'display_phone': '(803) 324-8800',\n",
       " 'review_count': 3,\n",
       " 'categories': [{'alias': 'motorcycledealers', 'title': 'Motorcycle Dealers'}],\n",
       " 'rating': 2.5,\n",
       " 'location': {'address1': '808 Riverview Rd',\n",
       "  'address2': '',\n",
       "  'address3': '',\n",
       "  'city': 'Rock Hill',\n",
       "  'zip_code': '29730',\n",
       "  'country': 'US',\n",
       "  'state': 'SC',\n",
       "  'display_address': ['808 Riverview Rd', 'Rock Hill, SC 29730'],\n",
       "  'cross_streets': ''},\n",
       " 'coordinates': {'latitude': 34.96826171875, 'longitude': -80.9854736328125},\n",
       " 'photos': [],\n",
       " 'transactions': []}"
      ]
     },
     "execution_count": 15,
     "metadata": {},
     "output_type": "execute_result"
    }
   ],
   "source": [
    "# Set the base url for API calls\n",
    "headers = {'Authorization': 'Bearer %s' % API_KEY}\n",
    "params ='9kXRUIkwdDtnAPO6tVo51g'\n",
    "\n",
    "base_url = \"https://api.yelp.com/v3/businesses/\" + params\n",
    "req = requests.get(base_url,  headers=headers)\n",
    "print('The status code is {}'.format(req.status_code))\n",
    "json.loads(req.text)\n",
    "\n",
    "businessIDs = \n",
    "\n",
    "# For each json object, make a GET request using the business ID\n",
    "for \n",
    "\n",
    "# With the information we get back, extract the state where the restaurant is\n",
    "\n",
    "# Add the location information to a new column in the table, called State\n",
    "\n",
    "# Display the table and see what happened"
   ]
  },
  {
   "cell_type": "code",
   "execution_count": null,
   "metadata": {},
   "outputs": [],
   "source": []
  }
 ],
 "metadata": {
  "kernelspec": {
   "display_name": "Python 3",
   "language": "python",
   "name": "python3"
  },
  "language_info": {
   "codemirror_mode": {
    "name": "ipython",
    "version": 3
   },
   "file_extension": ".py",
   "mimetype": "text/x-python",
   "name": "python",
   "nbconvert_exporter": "python",
   "pygments_lexer": "ipython3",
   "version": "3.8.3"
  }
 },
 "nbformat": 4,
 "nbformat_minor": 4
}
