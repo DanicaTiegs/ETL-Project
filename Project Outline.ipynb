{
 "cells": [
  {
   "cell_type": "markdown",
   "metadata": {},
   "source": [
    "# Data Cleanup & Process Analysis\n",
    "Imagine that you have a data analysis question at hand and some raw data. (You can even use the same overall data analysis question as you used in project 1, provided it meets the data requirements from above!) How would you take the raw data and prepare it for analysis? Make sure to plan out the following:\n",
    "\n",
    "Question: What was the affect of Covid 19 on the restaraunt industry in the US?\n"
   ]
  },
  {
   "cell_type": "markdown",
   "metadata": {},
   "source": [
    "# The sources of data that you will extract from.\n",
    "    - Covid state data - daily cases, deaths count - NY Times (csv)\n",
    "    - YOY daily % change seated diner data by states - OpenTable (csv)\n",
    "        - data specific to diners only\n",
    "    - business status post Covid (open/closed/take-out/dine in) by business ID - Yelp (json)\n"
   ]
  },
  {
   "cell_type": "markdown",
   "metadata": {},
   "source": [
    "# The type of transformation needed for this data (cleaning, joining, filtering, aggregating, etc).\n",
    " - Yelp - data cleaning\n",
    "     - basic cleansing \n",
    "     - aggregate by location (by state)\n",
    "     - filter down by business type?\n",
    "- OpenTable \n",
    "    - data cleanse (filter down to US states only)\n",
    "- compare all by state\n",
    "- Covid and OpenTable are by state and day...how to compare Yelp data since its static (pull in time June 10, 2020)\n"
   ]
  },
  {
   "cell_type": "markdown",
   "metadata": {},
   "source": [
    "# The type of final production database to load the data into (relational or non-relational).\n",
    "- relational..FKs by state or date?\n",
    "- posgres"
   ]
  },
  {
   "cell_type": "markdown",
   "metadata": {},
   "source": [
    "# The final tables or collections that will be used in the production database.\n",
    "-3 separate tables\n",
    "-possible combined table Covid data & OpenTable?"
   ]
  },
  {
   "cell_type": "code",
   "execution_count": null,
   "metadata": {},
   "outputs": [],
   "source": []
  }
 ],
 "metadata": {
  "kernelspec": {
   "display_name": "Python 3",
   "language": "python",
   "name": "python3"
  },
  "language_info": {
   "codemirror_mode": {
    "name": "ipython",
    "version": 3
   },
   "file_extension": ".py",
   "mimetype": "text/x-python",
   "name": "python",
   "nbconvert_exporter": "python",
   "pygments_lexer": "ipython3",
   "version": "3.8.3"
  }
 },
 "nbformat": 4,
 "nbformat_minor": 4
}
